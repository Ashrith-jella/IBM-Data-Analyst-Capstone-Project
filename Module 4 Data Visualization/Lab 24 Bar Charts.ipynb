{
 "cells": [
  {
   "cell_type": "markdown",
   "metadata": {},
   "source": [
    "<p style=\"text-align:center\">\n",
    "    <a href=\"https://skills.network\" target=\"_blank\">\n",
    "    <img src=\"https://cf-courses-data.s3.us.cloud-object-storage.appdomain.cloud/assets/logos/SN_web_lightmode.png\" width=\"200\" alt=\"Skills Network Logo\"  />\n",
    "    </a>\n",
    "</p>\n"
   ]
  },
  {
   "cell_type": "markdown",
   "metadata": {},
   "source": [
    "# **Bar Charts**\n"
   ]
  },
  {
   "cell_type": "markdown",
   "metadata": {},
   "source": [
    "Estimated time needed: **30** minutes\n"
   ]
  },
  {
   "cell_type": "markdown",
   "metadata": {},
   "source": [
    "In this lab, you will focus on visualizing data.\n",
    "\n",
    "The dataset will be provided to you in the form of an RDBMS.\n",
    "\n",
    "You will use SQL queries to extract the necessary data.\n"
   ]
  },
  {
   "cell_type": "markdown",
   "metadata": {},
   "source": [
    "## Objectives\n"
   ]
  },
  {
   "cell_type": "markdown",
   "metadata": {},
   "source": [
    "In this lab you will perform the following:\n"
   ]
  },
  {
   "cell_type": "markdown",
   "metadata": {},
   "source": [
    "-   Visualize the distribution of data\n",
    "\n",
    "-   Visualize the relationship between two features\n",
    "\n",
    "-   Visualize the composition of data\n",
    "\n",
    "-   Visualize comparison of data\n"
   ]
  },
  {
   "cell_type": "markdown",
   "metadata": {},
   "source": [
    "## Setup: Working with the Database\n",
    "**Install the needed libraries**\n"
   ]
  },
  {
   "cell_type": "code",
   "execution_count": null,
   "metadata": {},
   "outputs": [],
   "source": [
    "!pip install pandas"
   ]
  },
  {
   "cell_type": "code",
   "execution_count": null,
   "metadata": {},
   "outputs": [],
   "source": [
    "!pip install matplotlib"
   ]
  },
  {
   "cell_type": "markdown",
   "metadata": {},
   "source": [
    "**Download and connect to the database file containing survey data.**\n"
   ]
  },
  {
   "cell_type": "markdown",
   "metadata": {},
   "source": [
    "To start, download and load the dataset into a `pandas` DataFrame.\n",
    "\n"
   ]
  },
  {
   "cell_type": "code",
   "execution_count": null,
   "metadata": {},
   "outputs": [],
   "source": [
    "# Step 1: Download the dataset\n",
    "!wget -O survey-data.csv https://cf-courses-data.s3.us.cloud-object-storage.appdomain.cloud/n01PQ9pSmiRX6520flujwQ/survey-data.csv\n",
    "\n",
    "# Step 2: Import necessary libraries and load the dataset\n",
    "import pandas as pd\n",
    "import matplotlib.pyplot as plt\n",
    "\n",
    "# Load the data\n",
    "df = pd.read_csv(\"survey-data.csv\")\n",
    "\n",
    "# Display the first few rows to understand the structure of the data\n",
    "df.head()\n"
   ]
  },
  {
   "cell_type": "markdown",
   "metadata": {},
   "source": [
    "### Task 1: Visualizing Data Distributions\n"
   ]
  },
  {
   "cell_type": "markdown",
   "metadata": {},
   "source": [
    "##### 1. Histogram of `ConvertedCompYearly`\n"
   ]
  },
  {
   "cell_type": "markdown",
   "metadata": {},
   "source": [
    "Visualize the distribution of yearly compensation (`ConvertedCompYearly`) using a histogram.\n",
    "\n"
   ]
  },
  {
   "cell_type": "code",
   "execution_count": null,
   "metadata": {},
   "outputs": [],
   "source": [
    "## Write your code here\n",
    "plt.figure(figsize=(10, 6))\n",
    "plt.hist(df['ConvertedCompYearly'].dropna(), bins=30, color='skyblue', edgecolor='black')\n",
    "plt.title('Distribution of Yearly Compensation')\n",
    "plt.xlabel('Yearly Compensation (USD)')\n",
    "plt.ylabel('Frequency')\n",
    "plt.grid(axis='y', alpha=0.75)\n",
    "plt.tight_layout()\n",
    "plt.show()"
   ]
  },
  {
   "cell_type": "markdown",
   "metadata": {},
   "source": [
    "##### 2. Box Plot of `Age`\n"
   ]
  },
  {
   "cell_type": "markdown",
   "metadata": {},
   "source": [
    "Since `Age` is categorical in the dataset, convert it to numerical values for a box plot.\n",
    "\n"
   ]
  },
  {
   "cell_type": "code",
   "execution_count": null,
   "metadata": {},
   "outputs": [],
   "source": [
    "## Write your code here\n",
    "age_mapping = {\n",
    "    'Under 18 years old': 17,\n",
    "    '18-24 years old': 21,\n",
    "    '25-34 years old': 30,\n",
    "    '35-44 years old': 40,\n",
    "    '45-54 years old': 50,\n",
    "    '55-64 years old': 60,\n",
    "    '65 years or older': 70\n",
    "}\n",
    "\n",
    "# Apply the mapping to create a new numerical column\n",
    "df['Age_numeric'] = df['Age'].map(age_mapping)\n",
    "\n",
    "# Create the box plot\n",
    "plt.figure(figsize=(10, 6))\n",
    "plt.boxplot(df['Age_numeric'].dropna())\n",
    "plt.title('Box Plot of Age')\n",
    "plt.ylabel('Age (Approximate Value)')\n",
    "plt.grid(axis='y', alpha=0.75)\n",
    "plt.show()"
   ]
  },
  {
   "cell_type": "markdown",
   "metadata": {},
   "source": [
    "### Task 2: Visualizing Relationships in Data\n"
   ]
  },
  {
   "cell_type": "markdown",
   "metadata": {},
   "source": [
    "##### 1. Scatter Plot of `Age_numeric` and `ConvertedCompYearly`\n"
   ]
  },
  {
   "cell_type": "markdown",
   "metadata": {},
   "source": [
    "Explore the relationship between age and compensation.\n",
    "\n"
   ]
  },
  {
   "cell_type": "code",
   "execution_count": null,
   "metadata": {},
   "outputs": [],
   "source": [
    "## Write your code here\n",
    "scatter_df = df.dropna(subset=['Age_numeric', 'ConvertedCompYearly'])\n",
    "\n",
    "plt.figure(figsize=(10, 6))\n",
    "plt.scatter(scatter_df['Age_numeric'], scatter_df['ConvertedCompYearly'], \n",
    "            alpha=0.5, color='blue')\n",
    "plt.title('Relationship Between Age and Yearly Compensation')\n",
    "plt.xlabel('Age (Approximate Value)')\n",
    "plt.ylabel('Yearly Compensation (USD)')\n",
    "plt.grid(True, alpha=0.3)\n",
    "plt.tight_layout()\n",
    "plt.show()\n"
   ]
  },
  {
   "cell_type": "markdown",
   "metadata": {},
   "source": [
    "##### 2. Bubble Plot of `ConvertedCompYearly` and `JobSatPoints_6` with `Age_numeric` as Bubble Size\n"
   ]
  },
  {
   "cell_type": "markdown",
   "metadata": {},
   "source": [
    "Explore how compensation and job satisfaction are related, with age as the bubble size.\n"
   ]
  },
  {
   "cell_type": "code",
   "execution_count": null,
   "metadata": {},
   "outputs": [],
   "source": [
    "## Write your code here\n",
    "bubble_df = df.dropna(subset=['JobSatPoints_6', 'ConvertedCompYearly', 'Age_numeric'])\n",
    "\n",
    "plt.figure(figsize=(10, 6))\n",
    "plt.scatter(bubble_df['JobSatPoints_6'], bubble_df['ConvertedCompYearly'],\n",
    "            s=bubble_df['Age_numeric'] * 3, # Adjust size multiplier as needed\n",
    "            alpha=0.5, color='purple')\n",
    "plt.title('Compensation vs. Job Satisfaction with Age as Bubble Size')\n",
    "plt.xlabel('Job Satisfaction Points')\n",
    "plt.ylabel('Yearly Compensation (USD)')\n",
    "plt.grid(True, alpha=0.3)\n",
    "plt.tight_layout()\n",
    "plt.show()"
   ]
  },
  {
   "cell_type": "markdown",
   "metadata": {},
   "source": [
    "### Task 3: Visualizing Composition of Data with Bar Charts\n"
   ]
  },
  {
   "cell_type": "markdown",
   "metadata": {},
   "source": [
    "##### 1. Horizontal Bar Chart of `MainBranch` Distribution\n"
   ]
  },
  {
   "cell_type": "markdown",
   "metadata": {},
   "source": [
    "Visualize the distribution of respondents’ primary roles to understand their professional focus.\n",
    "\n"
   ]
  },
  {
   "cell_type": "code",
   "execution_count": null,
   "metadata": {},
   "outputs": [],
   "source": [
    "## Write your code here\n",
    "main_branch_counts = df['MainBranch'].value_counts()\n",
    "\n",
    "# Create a horizontal bar chart\n",
    "plt.figure(figsize=(10, 6))\n",
    "main_branch_counts.plot(kind='barh', color='green')\n",
    "plt.title('Distribution of Respondents by Primary Role')\n",
    "plt.xlabel('Count')\n",
    "plt.ylabel('Primary Role')\n",
    "plt.grid(axis='x', alpha=0.3)\n",
    "plt.tight_layout()\n",
    "plt.show()"
   ]
  },
  {
   "cell_type": "markdown",
   "metadata": {},
   "source": [
    "##### 2. Vertical Bar Chart of Top 5 Programming Languages Respondents Want to Work With\n"
   ]
  },
  {
   "cell_type": "markdown",
   "metadata": {},
   "source": [
    "Identify the most desired programming languages based on `LanguageWantToWorkWith`.\n",
    "\n"
   ]
  },
  {
   "cell_type": "code",
   "execution_count": null,
   "metadata": {},
   "outputs": [],
   "source": [
    "## Write your code here\n",
    "language_list = df['LanguageWantToWorkWith'].dropna().str.split(';').explode()\n",
    "top_languages = language_list.value_counts().head(5)\n",
    "\n",
    "# Create a vertical bar chart\n",
    "plt.figure(figsize=(10, 6))\n",
    "top_languages.plot(kind='bar', color='orange')\n",
    "plt.title('Top 5 Programming Languages Respondents Want to Work With')\n",
    "plt.xlabel('Programming Language')\n",
    "plt.ylabel('Count')\n",
    "plt.grid(axis='y', alpha=0.3)\n",
    "plt.tight_layout()\n",
    "plt.show()"
   ]
  },
  {
   "cell_type": "markdown",
   "metadata": {},
   "source": [
    "##### 3. Stacked Bar Chart of Median `JobSatPoints_6` and `JobSatPoints_7` by Age Group\n"
   ]
  },
  {
   "cell_type": "markdown",
   "metadata": {},
   "source": [
    "Compare job satisfaction metrics across different age groups with a stacked bar chart.\n"
   ]
  },
  {
   "cell_type": "code",
   "execution_count": null,
   "metadata": {},
   "outputs": [],
   "source": [
    "## Write your code here\n",
    "job_sat_by_age = df.groupby('Age')[['JobSatPoints_6', 'JobSatPoints_7']].median()\n",
    "\n",
    "# Create a stacked bar chart\n",
    "plt.figure(figsize=(12, 6))\n",
    "job_sat_by_age.plot(kind='bar', stacked=True, color=['#1f77b4', '#ff7f0e'])\n",
    "plt.title('Median Job Satisfaction Points by Age Group')\n",
    "plt.xlabel('Age Group')\n",
    "plt.ylabel('Median Satisfaction Points')\n",
    "plt.legend(title='Satisfaction Type')\n",
    "plt.grid(axis='y', alpha=0.3)\n",
    "plt.tight_layout()\n",
    "plt.show()"
   ]
  },
  {
   "cell_type": "markdown",
   "metadata": {},
   "source": [
    "##### 4. Bar Chart of Database Popularity (`DatabaseHaveWorkedWith`)\n"
   ]
  },
  {
   "cell_type": "markdown",
   "metadata": {},
   "source": [
    "Identify the most commonly used databases among respondents by visualizing `DatabaseHaveWorkedWith`.\n",
    "\n"
   ]
  },
  {
   "cell_type": "code",
   "execution_count": null,
   "metadata": {},
   "outputs": [],
   "source": [
    "## Write your code here"
   ]
  },
  {
   "cell_type": "markdown",
   "metadata": {},
   "source": [
    "### Task 4: Visualizing Comparison of Data with Bar Charts\n"
   ]
  },
  {
   "cell_type": "markdown",
   "metadata": {},
   "source": [
    "##### 1. Grouped Bar Chart of Median `ConvertedCompYearly` for Different Age Groups\n"
   ]
  },
  {
   "cell_type": "markdown",
   "metadata": {},
   "source": [
    "Compare median compensation across multiple age groups with a grouped bar chart.\n",
    "\n"
   ]
  },
  {
   "cell_type": "code",
   "execution_count": null,
   "metadata": {},
   "outputs": [],
   "source": [
    "## Write your code here"
   ]
  },
  {
   "cell_type": "markdown",
   "metadata": {},
   "source": [
    "##### 2. Bar Chart of Respondent Count by Country\n"
   ]
  },
  {
   "cell_type": "markdown",
   "metadata": {},
   "source": [
    "Show the distribution of respondents by country to see which regions are most represented.\n",
    "\n"
   ]
  },
  {
   "cell_type": "code",
   "execution_count": null,
   "metadata": {},
   "outputs": [],
   "source": [
    "## Write your code here"
   ]
  },
  {
   "cell_type": "markdown",
   "metadata": {},
   "source": [
    "### Final Step: Review\n"
   ]
  },
  {
   "cell_type": "markdown",
   "metadata": {},
   "source": [
    "This lab demonstrates how to create and interpret different types of bar charts, allowing you to analyze the composition, comparison, and distribution of categorical data in the Stack Overflow dataset, including main professional branches, programming language preferences, and compensation by age group. Bar charts effectively compare counts and median values across various categories.\n"
   ]
  },
  {
   "cell_type": "markdown",
   "metadata": {},
   "source": [
    "## Summary\n"
   ]
  },
  {
   "cell_type": "markdown",
   "metadata": {},
   "source": [
    "After completing this lab, you will be able to:\n",
    "- Create a horizontal bar chart to visualize the distribution of respondents' primary roles, helping to understand their professional focus.\n",
    "- Develop a vertical bar chart to identify the most desired programming languages based on the LanguageWantToWorkWith variable.\n",
    "- Use a stacked bar chart to compare job satisfaction metrics across different age groups.\n",
    "- Create a bar chart to visualize the most commonly used databases among respondents using the DatabaseHaveWorkedWith variable.\n"
   ]
  },
  {
   "cell_type": "markdown",
   "metadata": {},
   "source": [
    "## Authors:\n",
    "Ayushi Jain\n"
   ]
  },
  {
   "cell_type": "markdown",
   "metadata": {},
   "source": [
    "### Other Contributors:\n",
    "- Rav Ahuja\n",
    "- Lakshmi Holla\n",
    "- Malika\n"
   ]
  },
  {
   "cell_type": "markdown",
   "metadata": {},
   "source": [
    "Copyright © IBM Corporation. All rights reserved.\n"
   ]
  }
 ],
 "metadata": {
  "kernelspec": {
   "display_name": "Python 3 (ipykernel)",
   "language": "python",
   "name": "python3"
  },
  "language_info": {
   "codemirror_mode": {
    "name": "ipython",
    "version": 3
   },
   "file_extension": ".py",
   "mimetype": "text/x-python",
   "name": "python",
   "nbconvert_exporter": "python",
   "pygments_lexer": "ipython3",
   "version": "3.12.8"
  },
  "prev_pub_hash": "c7b0f261bbbd9a2050220f8bb249fc1e03006fca34975b73688a9bd2eab6f435"
 },
 "nbformat": 4,
 "nbformat_minor": 4
}
